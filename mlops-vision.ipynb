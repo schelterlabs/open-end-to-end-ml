{
 "cells": [
  {
   "cell_type": "code",
   "execution_count": 1,
   "metadata": {},
   "outputs": [],
   "source": [
    "from open_end_to_end_ml.tasks import ArticlesToInvestigateTaskMlOpsVision, ArticlesToInvestigateTask\n",
    "from open_end_to_end_ml.baselines import NoDataAugmentation, NoDataCleaning, \\\n",
    "    ArticlesToInvestigateTextualFeatureAdder, ArticlesToInvestigateLogisticRegressionTrainer\n",
    "\n",
    "from open_end_to_end_ml.steps import DataCleaning\n",
    "\n",
    "\n",
    "class ModeImputation(DataCleaning):\n",
    "\n",
    "    def __init__(self, columns):\n",
    "        self.columns = columns\n",
    "        self.most_frequent_values_per_column = {}\n",
    "\n",
    "    def __find_most_frequent_values(self, data):\n",
    "        for column in self.columns:\n",
    "            column_without_empty_strings = data[data[column] != ''][column]\n",
    "            self.most_frequent_values_per_column[column] = column_without_empty_strings.mode()[0]\n",
    "\n",
    "    def clean(self, data, random_state, is_train):\n",
    "        if is_train:\n",
    "            self.__find_most_frequent_values(data)\n",
    "\n",
    "        imputed_data = data.copy(deep=True)\n",
    "\n",
    "        for column in self.columns:\n",
    "            value_to_impute = self.most_frequent_values_per_column[column]\n",
    "            imputed_data[column].replace('', value_to_impute, inplace=True)\n",
    "\n",
    "        return imputed_data\n",
    "\n",
    "\n",
    "imputer = ModeImputation(['ActionGeo_Fullname', 'Actor1Name', 'Actor2Name', 'site_name'])\n",
    "\n"
   ]
  },
  {
   "cell_type": "code",
   "execution_count": null,
   "metadata": {},
   "outputs": [
    {
     "name": "stdout",
     "output_type": "stream",
     "text": [
      "task\trun\tseed\tday\ttrain_score\ttest_score\n",
      "Registered categorical columns: ['ActionGeo_Fullname', 'Actor1Name', 'Actor2Name', 'site_name']\n",
      "Registered numerical columns: []\n",
      "Generating perturbed training data...\n"
     ]
    }
   ],
   "source": [
    "\n",
    "experiment = ArticlesToInvestigateTaskMlOpsVision(\n",
    "    random_state=42,\n",
    "    run_name='mlops-vision-imputation',\n",
    "    augmentation=NoDataAugmentation(),\n",
    "    cleaning=[NoDataCleaning(), imputer],\n",
    "    feature_adder=ArticlesToInvestigateTextualFeatureAdder(),\n",
    "    model_trainer=ArticlesToInvestigateLogisticRegressionTrainer()\n",
    ")\n",
    "\n",
    "experiment.run()\n"
   ]
  },
  {
   "cell_type": "code",
   "execution_count": null,
   "metadata": {},
   "outputs": [],
   "source": [
    "debug\n"
   ]
  },
  {
   "cell_type": "code",
   "execution_count": null,
   "metadata": {},
   "outputs": [],
   "source": [
    "experiment = ArticlesToInvestigateTask(\n",
    "    random_state=42,\n",
    "    run_name='baseline',\n",
    "    augmentation=NoDataAugmentation(),\n",
    "    cleaning=NoDataCleaning(),\n",
    "    feature_adder=ArticlesToInvestigateTextualFeatureAdder(),\n",
    "    model_trainer=ArticlesToInvestigateLogisticRegressionTrainer()\n",
    ")"
   ]
  },
  {
   "cell_type": "code",
   "execution_count": null,
   "metadata": {},
   "outputs": [],
   "source": [
    "experiment = ArticlesToInvestigateTaskMlOpsVision(\n",
    "    random_state=42,\n",
    "    run_name='mlops-vision-imputation',\n",
    "    augmentation=NoDataAugmentation(),\n",
    "    cleaning=[NoDataCleaning(), imputer],\n",
    "    feature_adder=ArticlesToInvestigateTextualFeatureAdder(),\n",
    "    model_trainer=ArticlesToInvestigateLogisticRegressionTrainer()\n",
    ")"
   ]
  },
  {
   "cell_type": "code",
   "execution_count": null,
   "metadata": {},
   "outputs": [],
   "source": [
    "experiment.__class__"
   ]
  },
  {
   "cell_type": "code",
   "execution_count": null,
   "metadata": {},
   "outputs": [],
   "source": [
    "experiment.__dict__"
   ]
  },
  {
   "cell_type": "code",
   "execution_count": null,
   "metadata": {},
   "outputs": [],
   "source": []
  }
 ],
 "metadata": {
  "kernelspec": {
   "display_name": "Python 3",
   "language": "python",
   "name": "python3"
  },
  "language_info": {
   "codemirror_mode": {
    "name": "ipython",
    "version": 3
   },
   "file_extension": ".py",
   "mimetype": "text/x-python",
   "name": "python",
   "nbconvert_exporter": "python",
   "pygments_lexer": "ipython3",
   "version": "3.7.4"
  }
 },
 "nbformat": 4,
 "nbformat_minor": 2
}
